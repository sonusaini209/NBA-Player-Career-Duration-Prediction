{
 "cells": [
  {
   "cell_type": "code",
   "execution_count": 1,
   "id": "e8e34a6c",
   "metadata": {
    "_cell_guid": "b1076dfc-b9ad-4769-8c92-a6c4dae69d19",
    "_uuid": "8f2839f25d086af736a60e9eeb907d3b93b6e0e5",
    "execution": {
     "iopub.execute_input": "2023-10-21T11:06:22.368510Z",
     "iopub.status.busy": "2023-10-21T11:06:22.367786Z",
     "iopub.status.idle": "2023-10-21T11:06:23.214734Z",
     "shell.execute_reply": "2023-10-21T11:06:23.213604Z"
    },
    "papermill": {
     "duration": 0.861354,
     "end_time": "2023-10-21T11:06:23.217247",
     "exception": false,
     "start_time": "2023-10-21T11:06:22.355893",
     "status": "completed"
    },
    "tags": []
   },
   "outputs": [
    {
     "name": "stdout",
     "output_type": "stream",
     "text": [
      "/kaggle/input/national-basketball-association-nba/nba-players.csv\n"
     ]
    }
   ],
   "source": [
    "# This Python 3 environment comes with many helpful analytics libraries installed\n",
    "# It is defined by the kaggle/python Docker image: https://github.com/kaggle/docker-python\n",
    "# For example, here's several helpful packages to load\n",
    "\n",
    "import numpy as np # linear algebra\n",
    "import pandas as pd # data processing, CSV file I/O (e.g. pd.read_csv)\n",
    "\n",
    "# Input data files are available in the read-only \"../input/\" directory\n",
    "# For example, running this (by clicking run or pressing Shift+Enter) will list all files under the input directory\n",
    "\n",
    "import os\n",
    "for dirname, _, filenames in os.walk('/kaggle/input'):\n",
    "    for filename in filenames:\n",
    "        print(os.path.join(dirname, filename))\n",
    "\n",
    "# You can write up to 20GB to the current directory (/kaggle/working/) that gets preserved as output when you create a version using \"Save & Run All\" \n",
    "# You can also write temporary files to /kaggle/temp/, but they won't be saved outside of the current session"
   ]
  },
  {
   "cell_type": "markdown",
   "id": "67e73b4a",
   "metadata": {
    "papermill": {
     "duration": 0.009201,
     "end_time": "2023-10-21T11:06:23.236162",
     "exception": false,
     "start_time": "2023-10-21T11:06:23.226961",
     "status": "completed"
    },
    "tags": []
   },
   "source": [
    "# Import necessary libraries"
   ]
  },
  {
   "cell_type": "code",
   "execution_count": 2,
   "id": "856106d3",
   "metadata": {
    "execution": {
     "iopub.execute_input": "2023-10-21T11:06:23.257088Z",
     "iopub.status.busy": "2023-10-21T11:06:23.256222Z",
     "iopub.status.idle": "2023-10-21T11:06:24.758591Z",
     "shell.execute_reply": "2023-10-21T11:06:24.757444Z"
    },
    "papermill": {
     "duration": 1.515968,
     "end_time": "2023-10-21T11:06:24.761425",
     "exception": false,
     "start_time": "2023-10-21T11:06:23.245457",
     "status": "completed"
    },
    "tags": []
   },
   "outputs": [],
   "source": [
    "import numpy as np \n",
    "import pandas as pd\n",
    "from matplotlib import pyplot as plt\n",
    "import seaborn as sns"
   ]
  },
  {
   "cell_type": "markdown",
   "id": "197e919d",
   "metadata": {
    "papermill": {
     "duration": 0.009085,
     "end_time": "2023-10-21T11:06:24.779793",
     "exception": false,
     "start_time": "2023-10-21T11:06:24.770708",
     "status": "completed"
    },
    "tags": []
   },
   "source": [
    "# Load the dataset"
   ]
  },
  {
   "cell_type": "code",
   "execution_count": 3,
   "id": "153ff43a",
   "metadata": {
    "execution": {
     "iopub.execute_input": "2023-10-21T11:06:24.800581Z",
     "iopub.status.busy": "2023-10-21T11:06:24.799914Z",
     "iopub.status.idle": "2023-10-21T11:06:24.832527Z",
     "shell.execute_reply": "2023-10-21T11:06:24.831694Z"
    },
    "papermill": {
     "duration": 0.045933,
     "end_time": "2023-10-21T11:06:24.835084",
     "exception": false,
     "start_time": "2023-10-21T11:06:24.789151",
     "status": "completed"
    },
    "tags": []
   },
   "outputs": [],
   "source": [
    "df=pd.read_csv(\"/kaggle/input/national-basketball-association-nba/nba-players.csv\")"
   ]
  },
  {
   "cell_type": "markdown",
   "id": "0d8aff51",
   "metadata": {
    "papermill": {
     "duration": 0.009258,
     "end_time": "2023-10-21T11:06:24.853962",
     "exception": false,
     "start_time": "2023-10-21T11:06:24.844704",
     "status": "completed"
    },
    "tags": []
   },
   "source": [
    "# Basic Data Exploration"
   ]
  },
  {
   "cell_type": "code",
   "execution_count": 4,
   "id": "23e6a37e",
   "metadata": {
    "execution": {
     "iopub.execute_input": "2023-10-21T11:06:24.875299Z",
     "iopub.status.busy": "2023-10-21T11:06:24.874600Z",
     "iopub.status.idle": "2023-10-21T11:06:24.925021Z",
     "shell.execute_reply": "2023-10-21T11:06:24.923674Z"
    },
    "papermill": {
     "duration": 0.065099,
     "end_time": "2023-10-21T11:06:24.928545",
     "exception": false,
     "start_time": "2023-10-21T11:06:24.863446",
     "status": "completed"
    },
    "tags": []
   },
   "outputs": [
    {
     "data": {
      "text/html": [
       "<div>\n",
       "<style scoped>\n",
       "    .dataframe tbody tr th:only-of-type {\n",
       "        vertical-align: middle;\n",
       "    }\n",
       "\n",
       "    .dataframe tbody tr th {\n",
       "        vertical-align: top;\n",
       "    }\n",
       "\n",
       "    .dataframe thead th {\n",
       "        text-align: right;\n",
       "    }\n",
       "</style>\n",
       "<table border=\"1\" class=\"dataframe\">\n",
       "  <thead>\n",
       "    <tr style=\"text-align: right;\">\n",
       "      <th></th>\n",
       "      <th>Unnamed: 0</th>\n",
       "      <th>name</th>\n",
       "      <th>gp</th>\n",
       "      <th>min</th>\n",
       "      <th>pts</th>\n",
       "      <th>fgm</th>\n",
       "      <th>fga</th>\n",
       "      <th>fg</th>\n",
       "      <th>3p_made</th>\n",
       "      <th>3pa</th>\n",
       "      <th>...</th>\n",
       "      <th>fta</th>\n",
       "      <th>ft</th>\n",
       "      <th>oreb</th>\n",
       "      <th>dreb</th>\n",
       "      <th>reb</th>\n",
       "      <th>ast</th>\n",
       "      <th>stl</th>\n",
       "      <th>blk</th>\n",
       "      <th>tov</th>\n",
       "      <th>target_5yrs</th>\n",
       "    </tr>\n",
       "  </thead>\n",
       "  <tbody>\n",
       "    <tr>\n",
       "      <th>0</th>\n",
       "      <td>0</td>\n",
       "      <td>Brandon Ingram</td>\n",
       "      <td>36</td>\n",
       "      <td>27.4</td>\n",
       "      <td>7.4</td>\n",
       "      <td>2.6</td>\n",
       "      <td>7.6</td>\n",
       "      <td>34.7</td>\n",
       "      <td>0.5</td>\n",
       "      <td>2.1</td>\n",
       "      <td>...</td>\n",
       "      <td>2.3</td>\n",
       "      <td>69.9</td>\n",
       "      <td>0.7</td>\n",
       "      <td>3.4</td>\n",
       "      <td>4.1</td>\n",
       "      <td>1.9</td>\n",
       "      <td>0.4</td>\n",
       "      <td>0.4</td>\n",
       "      <td>1.3</td>\n",
       "      <td>0</td>\n",
       "    </tr>\n",
       "    <tr>\n",
       "      <th>1</th>\n",
       "      <td>1</td>\n",
       "      <td>Andrew Harrison</td>\n",
       "      <td>35</td>\n",
       "      <td>26.9</td>\n",
       "      <td>7.2</td>\n",
       "      <td>2.0</td>\n",
       "      <td>6.7</td>\n",
       "      <td>29.6</td>\n",
       "      <td>0.7</td>\n",
       "      <td>2.8</td>\n",
       "      <td>...</td>\n",
       "      <td>3.4</td>\n",
       "      <td>76.5</td>\n",
       "      <td>0.5</td>\n",
       "      <td>2.0</td>\n",
       "      <td>2.4</td>\n",
       "      <td>3.7</td>\n",
       "      <td>1.1</td>\n",
       "      <td>0.5</td>\n",
       "      <td>1.6</td>\n",
       "      <td>0</td>\n",
       "    </tr>\n",
       "    <tr>\n",
       "      <th>2</th>\n",
       "      <td>2</td>\n",
       "      <td>JaKarr Sampson</td>\n",
       "      <td>74</td>\n",
       "      <td>15.3</td>\n",
       "      <td>5.2</td>\n",
       "      <td>2.0</td>\n",
       "      <td>4.7</td>\n",
       "      <td>42.2</td>\n",
       "      <td>0.4</td>\n",
       "      <td>1.7</td>\n",
       "      <td>...</td>\n",
       "      <td>1.3</td>\n",
       "      <td>67.0</td>\n",
       "      <td>0.5</td>\n",
       "      <td>1.7</td>\n",
       "      <td>2.2</td>\n",
       "      <td>1.0</td>\n",
       "      <td>0.5</td>\n",
       "      <td>0.3</td>\n",
       "      <td>1.0</td>\n",
       "      <td>0</td>\n",
       "    </tr>\n",
       "    <tr>\n",
       "      <th>3</th>\n",
       "      <td>3</td>\n",
       "      <td>Malik Sealy</td>\n",
       "      <td>58</td>\n",
       "      <td>11.6</td>\n",
       "      <td>5.7</td>\n",
       "      <td>2.3</td>\n",
       "      <td>5.5</td>\n",
       "      <td>42.6</td>\n",
       "      <td>0.1</td>\n",
       "      <td>0.5</td>\n",
       "      <td>...</td>\n",
       "      <td>1.3</td>\n",
       "      <td>68.9</td>\n",
       "      <td>1.0</td>\n",
       "      <td>0.9</td>\n",
       "      <td>1.9</td>\n",
       "      <td>0.8</td>\n",
       "      <td>0.6</td>\n",
       "      <td>0.1</td>\n",
       "      <td>1.0</td>\n",
       "      <td>1</td>\n",
       "    </tr>\n",
       "    <tr>\n",
       "      <th>4</th>\n",
       "      <td>4</td>\n",
       "      <td>Matt Geiger</td>\n",
       "      <td>48</td>\n",
       "      <td>11.5</td>\n",
       "      <td>4.5</td>\n",
       "      <td>1.6</td>\n",
       "      <td>3.0</td>\n",
       "      <td>52.4</td>\n",
       "      <td>0.0</td>\n",
       "      <td>0.1</td>\n",
       "      <td>...</td>\n",
       "      <td>1.9</td>\n",
       "      <td>67.4</td>\n",
       "      <td>1.0</td>\n",
       "      <td>1.5</td>\n",
       "      <td>2.5</td>\n",
       "      <td>0.3</td>\n",
       "      <td>0.3</td>\n",
       "      <td>0.4</td>\n",
       "      <td>0.8</td>\n",
       "      <td>1</td>\n",
       "    </tr>\n",
       "  </tbody>\n",
       "</table>\n",
       "<p>5 rows × 22 columns</p>\n",
       "</div>"
      ],
      "text/plain": [
       "   Unnamed: 0             name  gp   min  pts  fgm  fga    fg  3p_made  3pa  \\\n",
       "0           0   Brandon Ingram  36  27.4  7.4  2.6  7.6  34.7      0.5  2.1   \n",
       "1           1  Andrew Harrison  35  26.9  7.2  2.0  6.7  29.6      0.7  2.8   \n",
       "2           2   JaKarr Sampson  74  15.3  5.2  2.0  4.7  42.2      0.4  1.7   \n",
       "3           3      Malik Sealy  58  11.6  5.7  2.3  5.5  42.6      0.1  0.5   \n",
       "4           4      Matt Geiger  48  11.5  4.5  1.6  3.0  52.4      0.0  0.1   \n",
       "\n",
       "   ...  fta    ft  oreb  dreb  reb  ast  stl  blk  tov  target_5yrs  \n",
       "0  ...  2.3  69.9   0.7   3.4  4.1  1.9  0.4  0.4  1.3            0  \n",
       "1  ...  3.4  76.5   0.5   2.0  2.4  3.7  1.1  0.5  1.6            0  \n",
       "2  ...  1.3  67.0   0.5   1.7  2.2  1.0  0.5  0.3  1.0            0  \n",
       "3  ...  1.3  68.9   1.0   0.9  1.9  0.8  0.6  0.1  1.0            1  \n",
       "4  ...  1.9  67.4   1.0   1.5  2.5  0.3  0.3  0.4  0.8            1  \n",
       "\n",
       "[5 rows x 22 columns]"
      ]
     },
     "execution_count": 4,
     "metadata": {},
     "output_type": "execute_result"
    }
   ],
   "source": [
    "df.head()"
   ]
  },
  {
   "cell_type": "code",
   "execution_count": 5,
   "id": "91aab952",
   "metadata": {
    "execution": {
     "iopub.execute_input": "2023-10-21T11:06:24.957171Z",
     "iopub.status.busy": "2023-10-21T11:06:24.956568Z",
     "iopub.status.idle": "2023-10-21T11:06:24.993594Z",
     "shell.execute_reply": "2023-10-21T11:06:24.992416Z"
    },
    "papermill": {
     "duration": 0.05397,
     "end_time": "2023-10-21T11:06:24.996510",
     "exception": false,
     "start_time": "2023-10-21T11:06:24.942540",
     "status": "completed"
    },
    "tags": []
   },
   "outputs": [
    {
     "name": "stdout",
     "output_type": "stream",
     "text": [
      "<class 'pandas.core.frame.DataFrame'>\n",
      "RangeIndex: 1340 entries, 0 to 1339\n",
      "Data columns (total 22 columns):\n",
      " #   Column       Non-Null Count  Dtype  \n",
      "---  ------       --------------  -----  \n",
      " 0   Unnamed: 0   1340 non-null   int64  \n",
      " 1   name         1340 non-null   object \n",
      " 2   gp           1340 non-null   int64  \n",
      " 3   min          1340 non-null   float64\n",
      " 4   pts          1340 non-null   float64\n",
      " 5   fgm          1340 non-null   float64\n",
      " 6   fga          1340 non-null   float64\n",
      " 7   fg           1340 non-null   float64\n",
      " 8   3p_made      1340 non-null   float64\n",
      " 9   3pa          1340 non-null   float64\n",
      " 10  3p           1340 non-null   float64\n",
      " 11  ftm          1340 non-null   float64\n",
      " 12  fta          1340 non-null   float64\n",
      " 13  ft           1340 non-null   float64\n",
      " 14  oreb         1340 non-null   float64\n",
      " 15  dreb         1340 non-null   float64\n",
      " 16  reb          1340 non-null   float64\n",
      " 17  ast          1340 non-null   float64\n",
      " 18  stl          1340 non-null   float64\n",
      " 19  blk          1340 non-null   float64\n",
      " 20  tov          1340 non-null   float64\n",
      " 21  target_5yrs  1340 non-null   int64  \n",
      "dtypes: float64(18), int64(3), object(1)\n",
      "memory usage: 230.4+ KB\n"
     ]
    }
   ],
   "source": [
    "df.info() # Dataset Information"
   ]
  },
  {
   "cell_type": "code",
   "execution_count": 6,
   "id": "8de75d27",
   "metadata": {
    "execution": {
     "iopub.execute_input": "2023-10-21T11:06:25.019103Z",
     "iopub.status.busy": "2023-10-21T11:06:25.018683Z",
     "iopub.status.idle": "2023-10-21T11:06:25.109959Z",
     "shell.execute_reply": "2023-10-21T11:06:25.106287Z"
    },
    "papermill": {
     "duration": 0.106773,
     "end_time": "2023-10-21T11:06:25.113767",
     "exception": false,
     "start_time": "2023-10-21T11:06:25.006994",
     "status": "completed"
    },
    "tags": []
   },
   "outputs": [
    {
     "data": {
      "text/html": [
       "<div>\n",
       "<style scoped>\n",
       "    .dataframe tbody tr th:only-of-type {\n",
       "        vertical-align: middle;\n",
       "    }\n",
       "\n",
       "    .dataframe tbody tr th {\n",
       "        vertical-align: top;\n",
       "    }\n",
       "\n",
       "    .dataframe thead th {\n",
       "        text-align: right;\n",
       "    }\n",
       "</style>\n",
       "<table border=\"1\" class=\"dataframe\">\n",
       "  <thead>\n",
       "    <tr style=\"text-align: right;\">\n",
       "      <th></th>\n",
       "      <th>Unnamed: 0</th>\n",
       "      <th>gp</th>\n",
       "      <th>min</th>\n",
       "      <th>pts</th>\n",
       "      <th>fgm</th>\n",
       "      <th>fga</th>\n",
       "      <th>fg</th>\n",
       "      <th>3p_made</th>\n",
       "      <th>3pa</th>\n",
       "      <th>3p</th>\n",
       "      <th>...</th>\n",
       "      <th>fta</th>\n",
       "      <th>ft</th>\n",
       "      <th>oreb</th>\n",
       "      <th>dreb</th>\n",
       "      <th>reb</th>\n",
       "      <th>ast</th>\n",
       "      <th>stl</th>\n",
       "      <th>blk</th>\n",
       "      <th>tov</th>\n",
       "      <th>target_5yrs</th>\n",
       "    </tr>\n",
       "  </thead>\n",
       "  <tbody>\n",
       "    <tr>\n",
       "      <th>count</th>\n",
       "      <td>1340.000000</td>\n",
       "      <td>1340.000000</td>\n",
       "      <td>1340.000000</td>\n",
       "      <td>1340.000000</td>\n",
       "      <td>1340.000000</td>\n",
       "      <td>1340.000000</td>\n",
       "      <td>1340.000000</td>\n",
       "      <td>1340.000000</td>\n",
       "      <td>1340.000000</td>\n",
       "      <td>1340.000000</td>\n",
       "      <td>...</td>\n",
       "      <td>1340.000000</td>\n",
       "      <td>1340.000000</td>\n",
       "      <td>1340.000000</td>\n",
       "      <td>1340.000000</td>\n",
       "      <td>1340.000000</td>\n",
       "      <td>1340.000000</td>\n",
       "      <td>1340.000000</td>\n",
       "      <td>1340.000000</td>\n",
       "      <td>1340.000000</td>\n",
       "      <td>1340.000000</td>\n",
       "    </tr>\n",
       "    <tr>\n",
       "      <th>mean</th>\n",
       "      <td>669.500000</td>\n",
       "      <td>60.414179</td>\n",
       "      <td>17.624627</td>\n",
       "      <td>6.801493</td>\n",
       "      <td>2.629104</td>\n",
       "      <td>5.885299</td>\n",
       "      <td>44.169403</td>\n",
       "      <td>0.247612</td>\n",
       "      <td>0.779179</td>\n",
       "      <td>19.149627</td>\n",
       "      <td>...</td>\n",
       "      <td>1.821940</td>\n",
       "      <td>70.300299</td>\n",
       "      <td>1.009403</td>\n",
       "      <td>2.025746</td>\n",
       "      <td>3.034478</td>\n",
       "      <td>1.550522</td>\n",
       "      <td>0.618507</td>\n",
       "      <td>0.368582</td>\n",
       "      <td>1.193582</td>\n",
       "      <td>0.620149</td>\n",
       "    </tr>\n",
       "    <tr>\n",
       "      <th>std</th>\n",
       "      <td>386.968991</td>\n",
       "      <td>17.433992</td>\n",
       "      <td>8.307964</td>\n",
       "      <td>4.357545</td>\n",
       "      <td>1.683555</td>\n",
       "      <td>3.593488</td>\n",
       "      <td>6.137679</td>\n",
       "      <td>0.383688</td>\n",
       "      <td>1.061847</td>\n",
       "      <td>16.051861</td>\n",
       "      <td>...</td>\n",
       "      <td>1.322984</td>\n",
       "      <td>10.578479</td>\n",
       "      <td>0.777119</td>\n",
       "      <td>1.360008</td>\n",
       "      <td>2.057774</td>\n",
       "      <td>1.471169</td>\n",
       "      <td>0.409759</td>\n",
       "      <td>0.429049</td>\n",
       "      <td>0.722541</td>\n",
       "      <td>0.485531</td>\n",
       "    </tr>\n",
       "    <tr>\n",
       "      <th>min</th>\n",
       "      <td>0.000000</td>\n",
       "      <td>11.000000</td>\n",
       "      <td>3.100000</td>\n",
       "      <td>0.700000</td>\n",
       "      <td>0.300000</td>\n",
       "      <td>0.800000</td>\n",
       "      <td>23.800000</td>\n",
       "      <td>0.000000</td>\n",
       "      <td>0.000000</td>\n",
       "      <td>0.000000</td>\n",
       "      <td>...</td>\n",
       "      <td>0.000000</td>\n",
       "      <td>0.000000</td>\n",
       "      <td>0.000000</td>\n",
       "      <td>0.200000</td>\n",
       "      <td>0.300000</td>\n",
       "      <td>0.000000</td>\n",
       "      <td>0.000000</td>\n",
       "      <td>0.000000</td>\n",
       "      <td>0.100000</td>\n",
       "      <td>0.000000</td>\n",
       "    </tr>\n",
       "    <tr>\n",
       "      <th>25%</th>\n",
       "      <td>334.750000</td>\n",
       "      <td>47.000000</td>\n",
       "      <td>10.875000</td>\n",
       "      <td>3.700000</td>\n",
       "      <td>1.400000</td>\n",
       "      <td>3.300000</td>\n",
       "      <td>40.200000</td>\n",
       "      <td>0.000000</td>\n",
       "      <td>0.000000</td>\n",
       "      <td>0.000000</td>\n",
       "      <td>...</td>\n",
       "      <td>0.900000</td>\n",
       "      <td>64.700000</td>\n",
       "      <td>0.400000</td>\n",
       "      <td>1.000000</td>\n",
       "      <td>1.500000</td>\n",
       "      <td>0.600000</td>\n",
       "      <td>0.300000</td>\n",
       "      <td>0.100000</td>\n",
       "      <td>0.700000</td>\n",
       "      <td>0.000000</td>\n",
       "    </tr>\n",
       "    <tr>\n",
       "      <th>50%</th>\n",
       "      <td>669.500000</td>\n",
       "      <td>63.000000</td>\n",
       "      <td>16.100000</td>\n",
       "      <td>5.550000</td>\n",
       "      <td>2.100000</td>\n",
       "      <td>4.800000</td>\n",
       "      <td>44.100000</td>\n",
       "      <td>0.100000</td>\n",
       "      <td>0.300000</td>\n",
       "      <td>22.200000</td>\n",
       "      <td>...</td>\n",
       "      <td>1.500000</td>\n",
       "      <td>71.250000</td>\n",
       "      <td>0.800000</td>\n",
       "      <td>1.700000</td>\n",
       "      <td>2.500000</td>\n",
       "      <td>1.100000</td>\n",
       "      <td>0.500000</td>\n",
       "      <td>0.200000</td>\n",
       "      <td>1.000000</td>\n",
       "      <td>1.000000</td>\n",
       "    </tr>\n",
       "    <tr>\n",
       "      <th>75%</th>\n",
       "      <td>1004.250000</td>\n",
       "      <td>77.000000</td>\n",
       "      <td>22.900000</td>\n",
       "      <td>8.800000</td>\n",
       "      <td>3.400000</td>\n",
       "      <td>7.500000</td>\n",
       "      <td>47.900000</td>\n",
       "      <td>0.400000</td>\n",
       "      <td>1.200000</td>\n",
       "      <td>32.500000</td>\n",
       "      <td>...</td>\n",
       "      <td>2.300000</td>\n",
       "      <td>77.600000</td>\n",
       "      <td>1.400000</td>\n",
       "      <td>2.600000</td>\n",
       "      <td>4.000000</td>\n",
       "      <td>2.000000</td>\n",
       "      <td>0.800000</td>\n",
       "      <td>0.500000</td>\n",
       "      <td>1.500000</td>\n",
       "      <td>1.000000</td>\n",
       "    </tr>\n",
       "    <tr>\n",
       "      <th>max</th>\n",
       "      <td>1339.000000</td>\n",
       "      <td>82.000000</td>\n",
       "      <td>40.900000</td>\n",
       "      <td>28.200000</td>\n",
       "      <td>10.200000</td>\n",
       "      <td>19.800000</td>\n",
       "      <td>73.700000</td>\n",
       "      <td>2.300000</td>\n",
       "      <td>6.500000</td>\n",
       "      <td>100.000000</td>\n",
       "      <td>...</td>\n",
       "      <td>10.200000</td>\n",
       "      <td>100.000000</td>\n",
       "      <td>5.300000</td>\n",
       "      <td>9.600000</td>\n",
       "      <td>13.900000</td>\n",
       "      <td>10.600000</td>\n",
       "      <td>2.500000</td>\n",
       "      <td>3.900000</td>\n",
       "      <td>4.400000</td>\n",
       "      <td>1.000000</td>\n",
       "    </tr>\n",
       "  </tbody>\n",
       "</table>\n",
       "<p>8 rows × 21 columns</p>\n",
       "</div>"
      ],
      "text/plain": [
       "        Unnamed: 0           gp          min          pts          fgm  \\\n",
       "count  1340.000000  1340.000000  1340.000000  1340.000000  1340.000000   \n",
       "mean    669.500000    60.414179    17.624627     6.801493     2.629104   \n",
       "std     386.968991    17.433992     8.307964     4.357545     1.683555   \n",
       "min       0.000000    11.000000     3.100000     0.700000     0.300000   \n",
       "25%     334.750000    47.000000    10.875000     3.700000     1.400000   \n",
       "50%     669.500000    63.000000    16.100000     5.550000     2.100000   \n",
       "75%    1004.250000    77.000000    22.900000     8.800000     3.400000   \n",
       "max    1339.000000    82.000000    40.900000    28.200000    10.200000   \n",
       "\n",
       "               fga           fg      3p_made          3pa           3p  ...  \\\n",
       "count  1340.000000  1340.000000  1340.000000  1340.000000  1340.000000  ...   \n",
       "mean      5.885299    44.169403     0.247612     0.779179    19.149627  ...   \n",
       "std       3.593488     6.137679     0.383688     1.061847    16.051861  ...   \n",
       "min       0.800000    23.800000     0.000000     0.000000     0.000000  ...   \n",
       "25%       3.300000    40.200000     0.000000     0.000000     0.000000  ...   \n",
       "50%       4.800000    44.100000     0.100000     0.300000    22.200000  ...   \n",
       "75%       7.500000    47.900000     0.400000     1.200000    32.500000  ...   \n",
       "max      19.800000    73.700000     2.300000     6.500000   100.000000  ...   \n",
       "\n",
       "               fta           ft         oreb         dreb          reb  \\\n",
       "count  1340.000000  1340.000000  1340.000000  1340.000000  1340.000000   \n",
       "mean      1.821940    70.300299     1.009403     2.025746     3.034478   \n",
       "std       1.322984    10.578479     0.777119     1.360008     2.057774   \n",
       "min       0.000000     0.000000     0.000000     0.200000     0.300000   \n",
       "25%       0.900000    64.700000     0.400000     1.000000     1.500000   \n",
       "50%       1.500000    71.250000     0.800000     1.700000     2.500000   \n",
       "75%       2.300000    77.600000     1.400000     2.600000     4.000000   \n",
       "max      10.200000   100.000000     5.300000     9.600000    13.900000   \n",
       "\n",
       "               ast          stl          blk          tov  target_5yrs  \n",
       "count  1340.000000  1340.000000  1340.000000  1340.000000  1340.000000  \n",
       "mean      1.550522     0.618507     0.368582     1.193582     0.620149  \n",
       "std       1.471169     0.409759     0.429049     0.722541     0.485531  \n",
       "min       0.000000     0.000000     0.000000     0.100000     0.000000  \n",
       "25%       0.600000     0.300000     0.100000     0.700000     0.000000  \n",
       "50%       1.100000     0.500000     0.200000     1.000000     1.000000  \n",
       "75%       2.000000     0.800000     0.500000     1.500000     1.000000  \n",
       "max      10.600000     2.500000     3.900000     4.400000     1.000000  \n",
       "\n",
       "[8 rows x 21 columns]"
      ]
     },
     "execution_count": 6,
     "metadata": {},
     "output_type": "execute_result"
    }
   ],
   "source": [
    "df.describe()   # Statistics"
   ]
  },
  {
   "cell_type": "code",
   "execution_count": 7,
   "id": "4babf7fa",
   "metadata": {
    "execution": {
     "iopub.execute_input": "2023-10-21T11:06:25.146695Z",
     "iopub.status.busy": "2023-10-21T11:06:25.145430Z",
     "iopub.status.idle": "2023-10-21T11:06:25.155547Z",
     "shell.execute_reply": "2023-10-21T11:06:25.154337Z"
    },
    "papermill": {
     "duration": 0.029433,
     "end_time": "2023-10-21T11:06:25.158372",
     "exception": false,
     "start_time": "2023-10-21T11:06:25.128939",
     "status": "completed"
    },
    "tags": []
   },
   "outputs": [
    {
     "data": {
      "text/plain": [
       "(1340, 22)"
      ]
     },
     "execution_count": 7,
     "metadata": {},
     "output_type": "execute_result"
    }
   ],
   "source": [
    "df.shape # Dataset Shape"
   ]
  },
  {
   "cell_type": "code",
   "execution_count": 8,
   "id": "a7531359",
   "metadata": {
    "execution": {
     "iopub.execute_input": "2023-10-21T11:06:25.188742Z",
     "iopub.status.busy": "2023-10-21T11:06:25.188249Z",
     "iopub.status.idle": "2023-10-21T11:06:25.199000Z",
     "shell.execute_reply": "2023-10-21T11:06:25.197819Z"
    },
    "papermill": {
     "duration": 0.029815,
     "end_time": "2023-10-21T11:06:25.201534",
     "exception": false,
     "start_time": "2023-10-21T11:06:25.171719",
     "status": "completed"
    },
    "tags": []
   },
   "outputs": [
    {
     "data": {
      "text/plain": [
       "Unnamed: 0     0\n",
       "name           0\n",
       "gp             0\n",
       "min            0\n",
       "pts            0\n",
       "fgm            0\n",
       "fga            0\n",
       "fg             0\n",
       "3p_made        0\n",
       "3pa            0\n",
       "3p             0\n",
       "ftm            0\n",
       "fta            0\n",
       "ft             0\n",
       "oreb           0\n",
       "dreb           0\n",
       "reb            0\n",
       "ast            0\n",
       "stl            0\n",
       "blk            0\n",
       "tov            0\n",
       "target_5yrs    0\n",
       "dtype: int64"
      ]
     },
     "execution_count": 8,
     "metadata": {},
     "output_type": "execute_result"
    }
   ],
   "source": [
    "df.isnull().sum()   # Missing Values"
   ]
  },
  {
   "cell_type": "markdown",
   "id": "3e04f2f0",
   "metadata": {
    "papermill": {
     "duration": 0.011215,
     "end_time": "2023-10-21T11:06:25.226714",
     "exception": false,
     "start_time": "2023-10-21T11:06:25.215499",
     "status": "completed"
    },
    "tags": []
   },
   "source": [
    "# Machine Learning Model"
   ]
  },
  {
   "cell_type": "markdown",
   "id": "827b6682",
   "metadata": {
    "papermill": {
     "duration": 0.010435,
     "end_time": "2023-10-21T11:06:25.247917",
     "exception": false,
     "start_time": "2023-10-21T11:06:25.237482",
     "status": "completed"
    },
    "tags": []
   },
   "source": [
    "**Data Splitting**"
   ]
  },
  {
   "cell_type": "code",
   "execution_count": 9,
   "id": "3b12415c",
   "metadata": {
    "execution": {
     "iopub.execute_input": "2023-10-21T11:06:25.271405Z",
     "iopub.status.busy": "2023-10-21T11:06:25.271031Z",
     "iopub.status.idle": "2023-10-21T11:06:25.277969Z",
     "shell.execute_reply": "2023-10-21T11:06:25.276957Z"
    },
    "papermill": {
     "duration": 0.021512,
     "end_time": "2023-10-21T11:06:25.280130",
     "exception": false,
     "start_time": "2023-10-21T11:06:25.258618",
     "status": "completed"
    },
    "tags": []
   },
   "outputs": [],
   "source": [
    "# Define features and the target variable\n",
    "\n",
    "X =df.drop(['name', 'target_5yrs'], axis=1)\n",
    "y = df['target_5yrs']"
   ]
  },
  {
   "cell_type": "code",
   "execution_count": 10,
   "id": "bb0d9489",
   "metadata": {
    "execution": {
     "iopub.execute_input": "2023-10-21T11:06:25.306642Z",
     "iopub.status.busy": "2023-10-21T11:06:25.306284Z",
     "iopub.status.idle": "2023-10-21T11:06:25.581978Z",
     "shell.execute_reply": "2023-10-21T11:06:25.580886Z"
    },
    "papermill": {
     "duration": 0.291824,
     "end_time": "2023-10-21T11:06:25.584767",
     "exception": false,
     "start_time": "2023-10-21T11:06:25.292943",
     "status": "completed"
    },
    "tags": []
   },
   "outputs": [],
   "source": [
    "from sklearn.model_selection import train_test_split"
   ]
  },
  {
   "cell_type": "code",
   "execution_count": 11,
   "id": "2fee10bb",
   "metadata": {
    "execution": {
     "iopub.execute_input": "2023-10-21T11:06:25.607512Z",
     "iopub.status.busy": "2023-10-21T11:06:25.607128Z",
     "iopub.status.idle": "2023-10-21T11:06:25.614524Z",
     "shell.execute_reply": "2023-10-21T11:06:25.613574Z"
    },
    "papermill": {
     "duration": 0.021589,
     "end_time": "2023-10-21T11:06:25.616919",
     "exception": false,
     "start_time": "2023-10-21T11:06:25.595330",
     "status": "completed"
    },
    "tags": []
   },
   "outputs": [],
   "source": [
    "# Split the data into training and testing sets \n",
    "\n",
    "X_train, X_test, y_train, y_test = train_test_split(X, y, test_size=0.2, random_state=42)\n"
   ]
  },
  {
   "cell_type": "code",
   "execution_count": 12,
   "id": "dad4e2b9",
   "metadata": {
    "execution": {
     "iopub.execute_input": "2023-10-21T11:06:25.640770Z",
     "iopub.status.busy": "2023-10-21T11:06:25.640379Z",
     "iopub.status.idle": "2023-10-21T11:06:25.646144Z",
     "shell.execute_reply": "2023-10-21T11:06:25.645159Z"
    },
    "papermill": {
     "duration": 0.020656,
     "end_time": "2023-10-21T11:06:25.648349",
     "exception": false,
     "start_time": "2023-10-21T11:06:25.627693",
     "status": "completed"
    },
    "tags": []
   },
   "outputs": [
    {
     "data": {
      "text/plain": [
       "(1072, 20)"
      ]
     },
     "execution_count": 12,
     "metadata": {},
     "output_type": "execute_result"
    }
   ],
   "source": [
    "X_train.shape"
   ]
  },
  {
   "cell_type": "code",
   "execution_count": 13,
   "id": "93dd342c",
   "metadata": {
    "execution": {
     "iopub.execute_input": "2023-10-21T11:06:25.671028Z",
     "iopub.status.busy": "2023-10-21T11:06:25.670637Z",
     "iopub.status.idle": "2023-10-21T11:06:25.676738Z",
     "shell.execute_reply": "2023-10-21T11:06:25.675819Z"
    },
    "papermill": {
     "duration": 0.019836,
     "end_time": "2023-10-21T11:06:25.678821",
     "exception": false,
     "start_time": "2023-10-21T11:06:25.658985",
     "status": "completed"
    },
    "tags": []
   },
   "outputs": [
    {
     "data": {
      "text/plain": [
       "(268, 20)"
      ]
     },
     "execution_count": 13,
     "metadata": {},
     "output_type": "execute_result"
    }
   ],
   "source": [
    "X_test.shape"
   ]
  },
  {
   "cell_type": "markdown",
   "id": "f809a7b7",
   "metadata": {
    "papermill": {
     "duration": 0.010626,
     "end_time": "2023-10-21T11:06:25.700177",
     "exception": false,
     "start_time": "2023-10-21T11:06:25.689551",
     "status": "completed"
    },
    "tags": []
   },
   "source": [
    "**Model Selection**"
   ]
  },
  {
   "cell_type": "code",
   "execution_count": 14,
   "id": "c79bdb81",
   "metadata": {
    "execution": {
     "iopub.execute_input": "2023-10-21T11:06:25.723025Z",
     "iopub.status.busy": "2023-10-21T11:06:25.722269Z",
     "iopub.status.idle": "2023-10-21T11:06:25.941748Z",
     "shell.execute_reply": "2023-10-21T11:06:25.940782Z"
    },
    "papermill": {
     "duration": 0.233753,
     "end_time": "2023-10-21T11:06:25.944430",
     "exception": false,
     "start_time": "2023-10-21T11:06:25.710677",
     "status": "completed"
    },
    "tags": []
   },
   "outputs": [],
   "source": [
    "from sklearn.neighbors import KNeighborsClassifier\n",
    "\n",
    "model = KNeighborsClassifier()\n"
   ]
  },
  {
   "cell_type": "markdown",
   "id": "a94e91a6",
   "metadata": {
    "papermill": {
     "duration": 0.010833,
     "end_time": "2023-10-21T11:06:25.966480",
     "exception": false,
     "start_time": "2023-10-21T11:06:25.955647",
     "status": "completed"
    },
    "tags": []
   },
   "source": [
    "**Model Training**"
   ]
  },
  {
   "cell_type": "code",
   "execution_count": 15,
   "id": "85af00aa",
   "metadata": {
    "execution": {
     "iopub.execute_input": "2023-10-21T11:06:25.991171Z",
     "iopub.status.busy": "2023-10-21T11:06:25.990766Z",
     "iopub.status.idle": "2023-10-21T11:06:26.006506Z",
     "shell.execute_reply": "2023-10-21T11:06:26.005462Z"
    },
    "papermill": {
     "duration": 0.030443,
     "end_time": "2023-10-21T11:06:26.008762",
     "exception": false,
     "start_time": "2023-10-21T11:06:25.978319",
     "status": "completed"
    },
    "tags": []
   },
   "outputs": [
    {
     "data": {
      "text/html": [
       "<style>#sk-container-id-1 {color: black;background-color: white;}#sk-container-id-1 pre{padding: 0;}#sk-container-id-1 div.sk-toggleable {background-color: white;}#sk-container-id-1 label.sk-toggleable__label {cursor: pointer;display: block;width: 100%;margin-bottom: 0;padding: 0.3em;box-sizing: border-box;text-align: center;}#sk-container-id-1 label.sk-toggleable__label-arrow:before {content: \"▸\";float: left;margin-right: 0.25em;color: #696969;}#sk-container-id-1 label.sk-toggleable__label-arrow:hover:before {color: black;}#sk-container-id-1 div.sk-estimator:hover label.sk-toggleable__label-arrow:before {color: black;}#sk-container-id-1 div.sk-toggleable__content {max-height: 0;max-width: 0;overflow: hidden;text-align: left;background-color: #f0f8ff;}#sk-container-id-1 div.sk-toggleable__content pre {margin: 0.2em;color: black;border-radius: 0.25em;background-color: #f0f8ff;}#sk-container-id-1 input.sk-toggleable__control:checked~div.sk-toggleable__content {max-height: 200px;max-width: 100%;overflow: auto;}#sk-container-id-1 input.sk-toggleable__control:checked~label.sk-toggleable__label-arrow:before {content: \"▾\";}#sk-container-id-1 div.sk-estimator input.sk-toggleable__control:checked~label.sk-toggleable__label {background-color: #d4ebff;}#sk-container-id-1 div.sk-label input.sk-toggleable__control:checked~label.sk-toggleable__label {background-color: #d4ebff;}#sk-container-id-1 input.sk-hidden--visually {border: 0;clip: rect(1px 1px 1px 1px);clip: rect(1px, 1px, 1px, 1px);height: 1px;margin: -1px;overflow: hidden;padding: 0;position: absolute;width: 1px;}#sk-container-id-1 div.sk-estimator {font-family: monospace;background-color: #f0f8ff;border: 1px dotted black;border-radius: 0.25em;box-sizing: border-box;margin-bottom: 0.5em;}#sk-container-id-1 div.sk-estimator:hover {background-color: #d4ebff;}#sk-container-id-1 div.sk-parallel-item::after {content: \"\";width: 100%;border-bottom: 1px solid gray;flex-grow: 1;}#sk-container-id-1 div.sk-label:hover label.sk-toggleable__label {background-color: #d4ebff;}#sk-container-id-1 div.sk-serial::before {content: \"\";position: absolute;border-left: 1px solid gray;box-sizing: border-box;top: 0;bottom: 0;left: 50%;z-index: 0;}#sk-container-id-1 div.sk-serial {display: flex;flex-direction: column;align-items: center;background-color: white;padding-right: 0.2em;padding-left: 0.2em;position: relative;}#sk-container-id-1 div.sk-item {position: relative;z-index: 1;}#sk-container-id-1 div.sk-parallel {display: flex;align-items: stretch;justify-content: center;background-color: white;position: relative;}#sk-container-id-1 div.sk-item::before, #sk-container-id-1 div.sk-parallel-item::before {content: \"\";position: absolute;border-left: 1px solid gray;box-sizing: border-box;top: 0;bottom: 0;left: 50%;z-index: -1;}#sk-container-id-1 div.sk-parallel-item {display: flex;flex-direction: column;z-index: 1;position: relative;background-color: white;}#sk-container-id-1 div.sk-parallel-item:first-child::after {align-self: flex-end;width: 50%;}#sk-container-id-1 div.sk-parallel-item:last-child::after {align-self: flex-start;width: 50%;}#sk-container-id-1 div.sk-parallel-item:only-child::after {width: 0;}#sk-container-id-1 div.sk-dashed-wrapped {border: 1px dashed gray;margin: 0 0.4em 0.5em 0.4em;box-sizing: border-box;padding-bottom: 0.4em;background-color: white;}#sk-container-id-1 div.sk-label label {font-family: monospace;font-weight: bold;display: inline-block;line-height: 1.2em;}#sk-container-id-1 div.sk-label-container {text-align: center;}#sk-container-id-1 div.sk-container {/* jupyter's `normalize.less` sets `[hidden] { display: none; }` but bootstrap.min.css set `[hidden] { display: none !important; }` so we also need the `!important` here to be able to override the default hidden behavior on the sphinx rendered scikit-learn.org. See: https://github.com/scikit-learn/scikit-learn/issues/21755 */display: inline-block !important;position: relative;}#sk-container-id-1 div.sk-text-repr-fallback {display: none;}</style><div id=\"sk-container-id-1\" class=\"sk-top-container\"><div class=\"sk-text-repr-fallback\"><pre>KNeighborsClassifier()</pre><b>In a Jupyter environment, please rerun this cell to show the HTML representation or trust the notebook. <br />On GitHub, the HTML representation is unable to render, please try loading this page with nbviewer.org.</b></div><div class=\"sk-container\" hidden><div class=\"sk-item\"><div class=\"sk-estimator sk-toggleable\"><input class=\"sk-toggleable__control sk-hidden--visually\" id=\"sk-estimator-id-1\" type=\"checkbox\" checked><label for=\"sk-estimator-id-1\" class=\"sk-toggleable__label sk-toggleable__label-arrow\">KNeighborsClassifier</label><div class=\"sk-toggleable__content\"><pre>KNeighborsClassifier()</pre></div></div></div></div></div>"
      ],
      "text/plain": [
       "KNeighborsClassifier()"
      ]
     },
     "execution_count": 15,
     "metadata": {},
     "output_type": "execute_result"
    }
   ],
   "source": [
    "model.fit(X_train, y_train)"
   ]
  },
  {
   "cell_type": "markdown",
   "id": "08b08dfa",
   "metadata": {
    "papermill": {
     "duration": 0.010812,
     "end_time": "2023-10-21T11:06:26.030974",
     "exception": false,
     "start_time": "2023-10-21T11:06:26.020162",
     "status": "completed"
    },
    "tags": []
   },
   "source": [
    "**Model Evaluation**"
   ]
  },
  {
   "cell_type": "code",
   "execution_count": 16,
   "id": "aa26fcac",
   "metadata": {
    "execution": {
     "iopub.execute_input": "2023-10-21T11:06:26.055323Z",
     "iopub.status.busy": "2023-10-21T11:06:26.054948Z",
     "iopub.status.idle": "2023-10-21T11:06:26.154613Z",
     "shell.execute_reply": "2023-10-21T11:06:26.153553Z"
    },
    "papermill": {
     "duration": 0.11472,
     "end_time": "2023-10-21T11:06:26.157289",
     "exception": false,
     "start_time": "2023-10-21T11:06:26.042569",
     "status": "completed"
    },
    "tags": []
   },
   "outputs": [],
   "source": [
    "# Make predictions on the test set\n",
    "y_pred = model.predict(X_test) \n"
   ]
  },
  {
   "cell_type": "code",
   "execution_count": 17,
   "id": "232b34c4",
   "metadata": {
    "execution": {
     "iopub.execute_input": "2023-10-21T11:06:26.182406Z",
     "iopub.status.busy": "2023-10-21T11:06:26.181978Z",
     "iopub.status.idle": "2023-10-21T11:06:26.187320Z",
     "shell.execute_reply": "2023-10-21T11:06:26.186106Z"
    },
    "papermill": {
     "duration": 0.02084,
     "end_time": "2023-10-21T11:06:26.189607",
     "exception": false,
     "start_time": "2023-10-21T11:06:26.168767",
     "status": "completed"
    },
    "tags": []
   },
   "outputs": [],
   "source": [
    "from sklearn.metrics import accuracy_score"
   ]
  },
  {
   "cell_type": "code",
   "execution_count": 18,
   "id": "88657a15",
   "metadata": {
    "execution": {
     "iopub.execute_input": "2023-10-21T11:06:26.214374Z",
     "iopub.status.busy": "2023-10-21T11:06:26.213985Z",
     "iopub.status.idle": "2023-10-21T11:06:26.221869Z",
     "shell.execute_reply": "2023-10-21T11:06:26.220532Z"
    },
    "papermill": {
     "duration": 0.022884,
     "end_time": "2023-10-21T11:06:26.223999",
     "exception": false,
     "start_time": "2023-10-21T11:06:26.201115",
     "status": "completed"
    },
    "tags": []
   },
   "outputs": [
    {
     "name": "stdout",
     "output_type": "stream",
     "text": [
      "Accuracy: 0.7276119402985075\n"
     ]
    }
   ],
   "source": [
    "# Evaluate the model's performance\n",
    "\n",
    "accuracy = accuracy_score(y_test, y_pred)\n",
    "print(\"Accuracy:\", accuracy)"
   ]
  },
  {
   "cell_type": "code",
   "execution_count": 19,
   "id": "67fbbc58",
   "metadata": {
    "execution": {
     "iopub.execute_input": "2023-10-21T11:06:26.248679Z",
     "iopub.status.busy": "2023-10-21T11:06:26.247960Z",
     "iopub.status.idle": "2023-10-21T11:06:26.252761Z",
     "shell.execute_reply": "2023-10-21T11:06:26.252013Z"
    },
    "papermill": {
     "duration": 0.019705,
     "end_time": "2023-10-21T11:06:26.255062",
     "exception": false,
     "start_time": "2023-10-21T11:06:26.235357",
     "status": "completed"
    },
    "tags": []
   },
   "outputs": [],
   "source": [
    "\n",
    "from sklearn.metrics import classification_report "
   ]
  },
  {
   "cell_type": "code",
   "execution_count": 20,
   "id": "1554a542",
   "metadata": {
    "execution": {
     "iopub.execute_input": "2023-10-21T11:06:26.278770Z",
     "iopub.status.busy": "2023-10-21T11:06:26.278349Z",
     "iopub.status.idle": "2023-10-21T11:06:26.294929Z",
     "shell.execute_reply": "2023-10-21T11:06:26.293658Z"
    },
    "papermill": {
     "duration": 0.031044,
     "end_time": "2023-10-21T11:06:26.296995",
     "exception": false,
     "start_time": "2023-10-21T11:06:26.265951",
     "status": "completed"
    },
    "tags": []
   },
   "outputs": [
    {
     "name": "stdout",
     "output_type": "stream",
     "text": [
      "Classification Report:\n",
      "               precision    recall  f1-score   support\n",
      "\n",
      "           0       0.68      0.51      0.58        99\n",
      "           1       0.75      0.86      0.80       169\n",
      "\n",
      "    accuracy                           0.73       268\n",
      "   macro avg       0.71      0.68      0.69       268\n",
      "weighted avg       0.72      0.73      0.72       268\n",
      "\n"
     ]
    }
   ],
   "source": [
    "# Generate a classification report\n",
    "\n",
    "report = classification_report(y_test, y_pred)\n",
    "print(\"Classification Report:\\n\", report)"
   ]
  },
  {
   "cell_type": "markdown",
   "id": "a1c93253",
   "metadata": {
    "papermill": {
     "duration": 0.011516,
     "end_time": "2023-10-21T11:06:26.320050",
     "exception": false,
     "start_time": "2023-10-21T11:06:26.308534",
     "status": "completed"
    },
    "tags": []
   },
   "source": [
    "**Confusion matrix**"
   ]
  },
  {
   "cell_type": "code",
   "execution_count": 21,
   "id": "a7be3c2b",
   "metadata": {
    "execution": {
     "iopub.execute_input": "2023-10-21T11:06:26.344964Z",
     "iopub.status.busy": "2023-10-21T11:06:26.344509Z",
     "iopub.status.idle": "2023-10-21T11:06:26.349446Z",
     "shell.execute_reply": "2023-10-21T11:06:26.348333Z"
    },
    "papermill": {
     "duration": 0.020001,
     "end_time": "2023-10-21T11:06:26.351705",
     "exception": false,
     "start_time": "2023-10-21T11:06:26.331704",
     "status": "completed"
    },
    "tags": []
   },
   "outputs": [],
   "source": [
    "from sklearn.metrics import confusion_matrix "
   ]
  },
  {
   "cell_type": "code",
   "execution_count": 22,
   "id": "ec1e0736",
   "metadata": {
    "execution": {
     "iopub.execute_input": "2023-10-21T11:06:26.376200Z",
     "iopub.status.busy": "2023-10-21T11:06:26.375743Z",
     "iopub.status.idle": "2023-10-21T11:06:26.382854Z",
     "shell.execute_reply": "2023-10-21T11:06:26.382071Z"
    },
    "papermill": {
     "duration": 0.021873,
     "end_time": "2023-10-21T11:06:26.384948",
     "exception": false,
     "start_time": "2023-10-21T11:06:26.363075",
     "status": "completed"
    },
    "tags": []
   },
   "outputs": [],
   "source": [
    "# Generate a confusion matrix\n",
    "\n",
    "cm = confusion_matrix(y_test, y_pred)\n"
   ]
  },
  {
   "cell_type": "code",
   "execution_count": 23,
   "id": "a52a8725",
   "metadata": {
    "execution": {
     "iopub.execute_input": "2023-10-21T11:06:26.409630Z",
     "iopub.status.busy": "2023-10-21T11:06:26.409200Z",
     "iopub.status.idle": "2023-10-21T11:06:26.757629Z",
     "shell.execute_reply": "2023-10-21T11:06:26.756490Z"
    },
    "papermill": {
     "duration": 0.363892,
     "end_time": "2023-10-21T11:06:26.760311",
     "exception": false,
     "start_time": "2023-10-21T11:06:26.396419",
     "status": "completed"
    },
    "tags": []
   },
   "outputs": [
    {
     "data": {
      "image/png": "[encoded data removed]",
      "text/plain": [
       "<Figure size 700x700 with 2 Axes>"
      ]
     },
     "metadata": {},
     "output_type": "display_data"
    }
   ],
   "source": [
    "# Visualize the confusion matrix\n",
    "\n",
    "plt.figure(figsize=(7, 7))\n",
    "\n",
    "\n",
    "sns.heatmap(\n",
    "   cm, annot=True, fmt=\"d\", cmap=\"YlGnBu\", cbar=True, linewidths=1, linecolor='black',\n",
    "    xticklabels=[\"Not Lasted 5 Yrs\", \"Lasted 5 Yrs\"],\n",
    "    yticklabels=[\"Not Lasted 5 Yrs\", \"Lasted 5 Yrs\"]\n",
    ")\n",
    "\n",
    "plt.xlabel('Predicted', fontsize=14, fontweight='bold')\n",
    "plt.ylabel('Actual', fontsize=14, fontweight='bold')\n",
    "plt.title('Confusion Matrix', fontsize=16, fontweight='bold')\n",
    "\n",
    "\n",
    "# Show the plot\n",
    "plt.show()"
   ]
  }
 ],
 "metadata": {
  "kernelspec": {
   "display_name": "Python 3",
   "language": "python",
   "name": "python3"
  },
  "language_info": {
   "codemirror_mode": {
    "name": "ipython",
    "version": 3
   },
   "file_extension": ".py",
   "mimetype": "text/x-python",
   "name": "python",
   "nbconvert_exporter": "python",
   "pygments_lexer": "ipython3",
   "version": "3.10.12"
  },
  "papermill": {
   "default_parameters": {},
   "duration": 9.532862,
   "end_time": "2023-10-21T11:06:27.452600",
   "environment_variables": {},
   "exception": null,
   "input_path": "__notebook__.ipynb",
   "output_path": "__notebook__.ipynb",
   "parameters": {},
   "start_time": "2023-10-21T11:06:17.919738",
   "version": "2.4.0"
  }
 },
 "nbformat": 4,
 "nbformat_minor": 5
}
